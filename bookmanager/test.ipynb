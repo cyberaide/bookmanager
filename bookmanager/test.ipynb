{
 "cells": [
  {
   "cell_type": "code",
   "execution_count": null,
   "metadata": {
    "collapsed": true,
    "pycharm": {
     "name": "#%%\n"
    }
   },
   "outputs": [],
   "source": []
  },
  {
   "cell_type": "code",
   "execution_count": 12,
   "outputs": [
    {
     "name": "stdout",
     "output_type": "stream",
     "text": [
      "cybertraining-dsc/reu2022 main/project/rivanna.md\n",
      "('cybertraining-dsc/reu2022', 'main', 'project/rivanna.md', 'https://raw.githubusercontent.com/cybertraining-dsc/reu2022/main/project/rivanna.md')\n",
      "('cybertraining-dsc/reu2022', 'main', 'project/rivanna.md', 'https://raw.githubusercontent.com/cybertraining-dsc/reu2022/main/project/rivanna.md')\n"
     ]
    }
   ],
   "source": [
    "raw = \"https://raw.githubusercontent.com/cybertraining-dsc/reu2022/main/project/rivanna.md\"\n",
    "url = \"https://github.com/cybertraining-dsc/reu2022/blob/main/project/rivanna.md\"\n",
    "\n",
    "def git_raw_url(url: str, branch=\"main\"):\n",
    "    \"\"\"\"\"\"\n",
    "    if url.startswith(\"https://github.com/\"):\n",
    "        _url = url.replace(\"https://github.com/\", \"\")\n",
    "        repo, rest = _url.split(\"/blob/\", 1)\n",
    "        print (repo, rest)\n",
    "        branch, name = rest.split(\"/\", 1)\n",
    "    elif url.startswith('https://raw.githubusercontent.com/'):\n",
    "        _url = url.replace(\"https://raw.githubusercontent.com/\", \"\")\n",
    "        repo, name = _url.split(f\"/{branch}/\", 1)\n",
    "    else:\n",
    "        raise ValueError(url)\n",
    "\n",
    "    raw = f\"https://raw.githubusercontent.com/{repo}/{branch}/{name}\"\n",
    "    return repo, branch, name, raw\n",
    "\n",
    "print (git_raw_url(url))\n",
    "print (git_raw_url(raw))\n"
   ],
   "metadata": {
    "collapsed": false,
    "pycharm": {
     "name": "#%%\n"
    }
   }
  },
  {
   "cell_type": "code",
   "execution_count": 5,
   "outputs": [],
   "source": [],
   "metadata": {
    "collapsed": false,
    "pycharm": {
     "name": "#%%\n"
    }
   }
  },
  {
   "cell_type": "code",
   "execution_count": null,
   "outputs": [],
   "source": [],
   "metadata": {
    "collapsed": false,
    "pycharm": {
     "name": "#%%\n"
    }
   }
  }
 ],
 "metadata": {
  "kernelspec": {
   "display_name": "Python 3",
   "language": "python",
   "name": "python3"
  },
  "language_info": {
   "codemirror_mode": {
    "name": "ipython",
    "version": 2
   },
   "file_extension": ".py",
   "mimetype": "text/x-python",
   "name": "python",
   "nbconvert_exporter": "python",
   "pygments_lexer": "ipython2",
   "version": "2.7.6"
  }
 },
 "nbformat": 4,
 "nbformat_minor": 0
}